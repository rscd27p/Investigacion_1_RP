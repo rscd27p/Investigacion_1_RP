{
 "cells": [
  {
   "cell_type": "markdown",
   "id": "minor-hometown",
   "metadata": {},
   "source": [
    "# Investigación 1\n",
    "\n",
    "## Pattern Recognition MP6122 - Master of Science in Electronics - Emphasis on Embedded Systems\n",
    "\n",
    "## Costa Rica TEC\n",
    "\n",
    "Professor: MSc. Felipe Meza\n",
    "Student: Randy Céspedes Deliyore - carnet: 201054417\n",
    "\n",
    "The choosen data set is named **Global Power Plant Database** and can be found [here](https://datasets.wri.org/dataset/globalpowerplantdatabase). This dataset is unprocessed and contains data of the power generation of 164 countries and 30 000 plants, in which its possible to found the power generation capacity by plant and by type of fuel (hydro, gas, coal, etc.). This dataset was found by investigating about energy-related datasets in **Kaggle** and it was found that some other datasets have been generated after pre-processing this one."
   ]
  },
  {
   "cell_type": "markdown",
   "id": "valuable-guidance",
   "metadata": {},
   "source": [
    "## Data Preporcessing\n",
    "\n",
    "1. First step is to load the libraries:"
   ]
  },
  {
   "cell_type": "code",
   "execution_count": 2,
   "id": "great-velvet",
   "metadata": {},
   "outputs": [],
   "source": [
    "import numpy as np\n",
    "import pandas as pd\n",
    "import seaborn as sns\n",
    "from matplotlib import pyplot as plt"
   ]
  },
  {
   "cell_type": "markdown",
   "id": "mounted-annotation",
   "metadata": {},
   "source": [
    "2. Load the dataset:"
   ]
  },
  {
   "cell_type": "code",
   "execution_count": 3,
   "id": "sophisticated-creek",
   "metadata": {},
   "outputs": [],
   "source": [
    "power_plant = pd.read_csv(\"global_power_plant_database.csv\")"
   ]
  },
  {
   "cell_type": "markdown",
   "id": "dutch-premium",
   "metadata": {},
   "source": [
    "3. Check the first Lines:"
   ]
  },
  {
   "cell_type": "code",
   "execution_count": 4,
   "id": "governing-revision",
   "metadata": {},
   "outputs": [
    {
     "data": {
      "text/html": [
       "<div>\n",
       "<style scoped>\n",
       "    .dataframe tbody tr th:only-of-type {\n",
       "        vertical-align: middle;\n",
       "    }\n",
       "\n",
       "    .dataframe tbody tr th {\n",
       "        vertical-align: top;\n",
       "    }\n",
       "\n",
       "    .dataframe thead th {\n",
       "        text-align: right;\n",
       "    }\n",
       "</style>\n",
       "<table border=\"1\" class=\"dataframe\">\n",
       "  <thead>\n",
       "    <tr style=\"text-align: right;\">\n",
       "      <th></th>\n",
       "      <th>country</th>\n",
       "      <th>country_long</th>\n",
       "      <th>name</th>\n",
       "      <th>gppd_idnr</th>\n",
       "      <th>capacity_mw</th>\n",
       "      <th>latitude</th>\n",
       "      <th>longitude</th>\n",
       "      <th>primary_fuel</th>\n",
       "      <th>other_fuel1</th>\n",
       "      <th>other_fuel2</th>\n",
       "      <th>...</th>\n",
       "      <th>url</th>\n",
       "      <th>geolocation_source</th>\n",
       "      <th>wepp_id</th>\n",
       "      <th>year_of_capacity_data</th>\n",
       "      <th>generation_gwh_2013</th>\n",
       "      <th>generation_gwh_2014</th>\n",
       "      <th>generation_gwh_2015</th>\n",
       "      <th>generation_gwh_2016</th>\n",
       "      <th>generation_gwh_2017</th>\n",
       "      <th>estimated_generation_gwh</th>\n",
       "    </tr>\n",
       "  </thead>\n",
       "  <tbody>\n",
       "    <tr>\n",
       "      <th>0</th>\n",
       "      <td>AFG</td>\n",
       "      <td>Afghanistan</td>\n",
       "      <td>Kajaki Hydroelectric Power Plant Afghanistan</td>\n",
       "      <td>GEODB0040538</td>\n",
       "      <td>33.00</td>\n",
       "      <td>32.3220</td>\n",
       "      <td>65.1190</td>\n",
       "      <td>Hydro</td>\n",
       "      <td>NaN</td>\n",
       "      <td>NaN</td>\n",
       "      <td>...</td>\n",
       "      <td>http://globalenergyobservatory.org</td>\n",
       "      <td>GEODB</td>\n",
       "      <td>1009793</td>\n",
       "      <td>2017.0</td>\n",
       "      <td>NaN</td>\n",
       "      <td>NaN</td>\n",
       "      <td>NaN</td>\n",
       "      <td>NaN</td>\n",
       "      <td>NaN</td>\n",
       "      <td>NaN</td>\n",
       "    </tr>\n",
       "    <tr>\n",
       "      <th>1</th>\n",
       "      <td>AFG</td>\n",
       "      <td>Afghanistan</td>\n",
       "      <td>Mahipar Hydroelectric Power Plant Afghanistan</td>\n",
       "      <td>GEODB0040541</td>\n",
       "      <td>66.00</td>\n",
       "      <td>34.5560</td>\n",
       "      <td>69.4787</td>\n",
       "      <td>Hydro</td>\n",
       "      <td>NaN</td>\n",
       "      <td>NaN</td>\n",
       "      <td>...</td>\n",
       "      <td>http://globalenergyobservatory.org</td>\n",
       "      <td>GEODB</td>\n",
       "      <td>1009795</td>\n",
       "      <td>2017.0</td>\n",
       "      <td>NaN</td>\n",
       "      <td>NaN</td>\n",
       "      <td>NaN</td>\n",
       "      <td>NaN</td>\n",
       "      <td>NaN</td>\n",
       "      <td>NaN</td>\n",
       "    </tr>\n",
       "    <tr>\n",
       "      <th>2</th>\n",
       "      <td>AFG</td>\n",
       "      <td>Afghanistan</td>\n",
       "      <td>Naghlu Dam Hydroelectric Power Plant Afghanistan</td>\n",
       "      <td>GEODB0040534</td>\n",
       "      <td>100.00</td>\n",
       "      <td>34.6410</td>\n",
       "      <td>69.7170</td>\n",
       "      <td>Hydro</td>\n",
       "      <td>NaN</td>\n",
       "      <td>NaN</td>\n",
       "      <td>...</td>\n",
       "      <td>http://globalenergyobservatory.org</td>\n",
       "      <td>GEODB</td>\n",
       "      <td>1009797</td>\n",
       "      <td>2017.0</td>\n",
       "      <td>NaN</td>\n",
       "      <td>NaN</td>\n",
       "      <td>NaN</td>\n",
       "      <td>NaN</td>\n",
       "      <td>NaN</td>\n",
       "      <td>NaN</td>\n",
       "    </tr>\n",
       "    <tr>\n",
       "      <th>3</th>\n",
       "      <td>AFG</td>\n",
       "      <td>Afghanistan</td>\n",
       "      <td>Nangarhar (Darunta) Hydroelectric Power Plant ...</td>\n",
       "      <td>GEODB0040536</td>\n",
       "      <td>11.55</td>\n",
       "      <td>34.4847</td>\n",
       "      <td>70.3633</td>\n",
       "      <td>Hydro</td>\n",
       "      <td>NaN</td>\n",
       "      <td>NaN</td>\n",
       "      <td>...</td>\n",
       "      <td>http://globalenergyobservatory.org</td>\n",
       "      <td>GEODB</td>\n",
       "      <td>1009787</td>\n",
       "      <td>2017.0</td>\n",
       "      <td>NaN</td>\n",
       "      <td>NaN</td>\n",
       "      <td>NaN</td>\n",
       "      <td>NaN</td>\n",
       "      <td>NaN</td>\n",
       "      <td>NaN</td>\n",
       "    </tr>\n",
       "    <tr>\n",
       "      <th>4</th>\n",
       "      <td>AFG</td>\n",
       "      <td>Afghanistan</td>\n",
       "      <td>Northwest Kabul Power Plant Afghanistan</td>\n",
       "      <td>GEODB0040540</td>\n",
       "      <td>42.00</td>\n",
       "      <td>34.5638</td>\n",
       "      <td>69.1134</td>\n",
       "      <td>Gas</td>\n",
       "      <td>NaN</td>\n",
       "      <td>NaN</td>\n",
       "      <td>...</td>\n",
       "      <td>http://globalenergyobservatory.org</td>\n",
       "      <td>GEODB</td>\n",
       "      <td>NaN</td>\n",
       "      <td>2017.0</td>\n",
       "      <td>NaN</td>\n",
       "      <td>NaN</td>\n",
       "      <td>NaN</td>\n",
       "      <td>NaN</td>\n",
       "      <td>NaN</td>\n",
       "      <td>NaN</td>\n",
       "    </tr>\n",
       "  </tbody>\n",
       "</table>\n",
       "<p>5 rows × 24 columns</p>\n",
       "</div>"
      ],
      "text/plain": [
       "  country country_long                                               name  \\\n",
       "0     AFG  Afghanistan       Kajaki Hydroelectric Power Plant Afghanistan   \n",
       "1     AFG  Afghanistan      Mahipar Hydroelectric Power Plant Afghanistan   \n",
       "2     AFG  Afghanistan   Naghlu Dam Hydroelectric Power Plant Afghanistan   \n",
       "3     AFG  Afghanistan  Nangarhar (Darunta) Hydroelectric Power Plant ...   \n",
       "4     AFG  Afghanistan            Northwest Kabul Power Plant Afghanistan   \n",
       "\n",
       "      gppd_idnr  capacity_mw  latitude  longitude primary_fuel other_fuel1  \\\n",
       "0  GEODB0040538        33.00   32.3220    65.1190        Hydro         NaN   \n",
       "1  GEODB0040541        66.00   34.5560    69.4787        Hydro         NaN   \n",
       "2  GEODB0040534       100.00   34.6410    69.7170        Hydro         NaN   \n",
       "3  GEODB0040536        11.55   34.4847    70.3633        Hydro         NaN   \n",
       "4  GEODB0040540        42.00   34.5638    69.1134          Gas         NaN   \n",
       "\n",
       "  other_fuel2  ...                                 url  geolocation_source  \\\n",
       "0         NaN  ...  http://globalenergyobservatory.org               GEODB   \n",
       "1         NaN  ...  http://globalenergyobservatory.org               GEODB   \n",
       "2         NaN  ...  http://globalenergyobservatory.org               GEODB   \n",
       "3         NaN  ...  http://globalenergyobservatory.org               GEODB   \n",
       "4         NaN  ...  http://globalenergyobservatory.org               GEODB   \n",
       "\n",
       "   wepp_id year_of_capacity_data generation_gwh_2013 generation_gwh_2014  \\\n",
       "0  1009793                2017.0                 NaN                 NaN   \n",
       "1  1009795                2017.0                 NaN                 NaN   \n",
       "2  1009797                2017.0                 NaN                 NaN   \n",
       "3  1009787                2017.0                 NaN                 NaN   \n",
       "4      NaN                2017.0                 NaN                 NaN   \n",
       "\n",
       "  generation_gwh_2015  generation_gwh_2016  generation_gwh_2017  \\\n",
       "0                 NaN                  NaN                  NaN   \n",
       "1                 NaN                  NaN                  NaN   \n",
       "2                 NaN                  NaN                  NaN   \n",
       "3                 NaN                  NaN                  NaN   \n",
       "4                 NaN                  NaN                  NaN   \n",
       "\n",
       "   estimated_generation_gwh  \n",
       "0                       NaN  \n",
       "1                       NaN  \n",
       "2                       NaN  \n",
       "3                       NaN  \n",
       "4                       NaN  \n",
       "\n",
       "[5 rows x 24 columns]"
      ]
     },
     "execution_count": 4,
     "metadata": {},
     "output_type": "execute_result"
    }
   ],
   "source": [
    "power_plant.head()"
   ]
  },
  {
   "cell_type": "markdown",
   "id": "precise-patent",
   "metadata": {},
   "source": [
    "**Note:** This dataset has multiple columns that contain repeated data. For this we get all column names:"
   ]
  },
  {
   "cell_type": "code",
   "execution_count": 5,
   "id": "super-stand",
   "metadata": {},
   "outputs": [
    {
     "data": {
      "text/html": [
       "<div>\n",
       "<style scoped>\n",
       "    .dataframe tbody tr th:only-of-type {\n",
       "        vertical-align: middle;\n",
       "    }\n",
       "\n",
       "    .dataframe tbody tr th {\n",
       "        vertical-align: top;\n",
       "    }\n",
       "\n",
       "    .dataframe thead th {\n",
       "        text-align: right;\n",
       "    }\n",
       "</style>\n",
       "<table border=\"1\" class=\"dataframe\">\n",
       "  <thead>\n",
       "    <tr style=\"text-align: right;\">\n",
       "      <th></th>\n",
       "      <th>country</th>\n",
       "      <th>country_long</th>\n",
       "      <th>name</th>\n",
       "      <th>gppd_idnr</th>\n",
       "      <th>capacity_mw</th>\n",
       "      <th>latitude</th>\n",
       "      <th>longitude</th>\n",
       "      <th>primary_fuel</th>\n",
       "      <th>other_fuel1</th>\n",
       "      <th>other_fuel2</th>\n",
       "      <th>...</th>\n",
       "      <th>url</th>\n",
       "      <th>geolocation_source</th>\n",
       "      <th>wepp_id</th>\n",
       "      <th>year_of_capacity_data</th>\n",
       "      <th>generation_gwh_2013</th>\n",
       "      <th>generation_gwh_2014</th>\n",
       "      <th>generation_gwh_2015</th>\n",
       "      <th>generation_gwh_2016</th>\n",
       "      <th>generation_gwh_2017</th>\n",
       "      <th>estimated_generation_gwh</th>\n",
       "    </tr>\n",
       "  </thead>\n",
       "  <tbody>\n",
       "  </tbody>\n",
       "</table>\n",
       "<p>0 rows × 24 columns</p>\n",
       "</div>"
      ],
      "text/plain": [
       "Empty DataFrame\n",
       "Columns: [country, country_long, name, gppd_idnr, capacity_mw, latitude, longitude, primary_fuel, other_fuel1, other_fuel2, other_fuel3, commissioning_year, owner, source, url, geolocation_source, wepp_id, year_of_capacity_data, generation_gwh_2013, generation_gwh_2014, generation_gwh_2015, generation_gwh_2016, generation_gwh_2017, estimated_generation_gwh]\n",
       "Index: []\n",
       "\n",
       "[0 rows x 24 columns]"
      ]
     },
     "execution_count": 5,
     "metadata": {},
     "output_type": "execute_result"
    }
   ],
   "source": [
    "power_plant[:0]"
   ]
  },
  {
   "cell_type": "markdown",
   "id": "parental-ethernet",
   "metadata": {},
   "source": [
    "For example, columns like **country** (Country code) and **country_long** contain the same information. The column name **gppd_idnr** contains the country code and the plant **id number**, which is easier to handle than the **name**. \n",
    "\n",
    "Out of the 24 columns only the following are going to be use: \n",
    "\n",
    "+country\n",
    "+gppd_idnr\n",
    "+capacity_mw\n",
    "+primary_fuel\n",
    "+generation_gwh_2013\n",
    "+generation_gwh_2014\n",
    "+generation_gwh_2015\n",
    "+generation_gwh_2016\n",
    "+generation_gwh_2017\n",
    "\n"
   ]
  },
  {
   "cell_type": "code",
   "execution_count": 53,
   "id": "dental-ideal",
   "metadata": {},
   "outputs": [],
   "source": [
    "simplified_pp = power_plant.drop(columns=['country_long','name','other_fuel1','other_fuel2','other_fuel3','commissioning_year','owner','source','url','geolocation_source','wepp_id','year_of_capacity_data','latitude','longitude'])"
   ]
  },
  {
   "cell_type": "code",
   "execution_count": 54,
   "id": "married-designer",
   "metadata": {},
   "outputs": [
    {
     "data": {
      "text/html": [
       "<div>\n",
       "<style scoped>\n",
       "    .dataframe tbody tr th:only-of-type {\n",
       "        vertical-align: middle;\n",
       "    }\n",
       "\n",
       "    .dataframe tbody tr th {\n",
       "        vertical-align: top;\n",
       "    }\n",
       "\n",
       "    .dataframe thead th {\n",
       "        text-align: right;\n",
       "    }\n",
       "</style>\n",
       "<table border=\"1\" class=\"dataframe\">\n",
       "  <thead>\n",
       "    <tr style=\"text-align: right;\">\n",
       "      <th></th>\n",
       "      <th>country</th>\n",
       "      <th>gppd_idnr</th>\n",
       "      <th>capacity_mw</th>\n",
       "      <th>primary_fuel</th>\n",
       "      <th>generation_gwh_2013</th>\n",
       "      <th>generation_gwh_2014</th>\n",
       "      <th>generation_gwh_2015</th>\n",
       "      <th>generation_gwh_2016</th>\n",
       "      <th>generation_gwh_2017</th>\n",
       "      <th>estimated_generation_gwh</th>\n",
       "    </tr>\n",
       "  </thead>\n",
       "  <tbody>\n",
       "    <tr>\n",
       "      <th>0</th>\n",
       "      <td>AFG</td>\n",
       "      <td>GEODB0040538</td>\n",
       "      <td>33.00</td>\n",
       "      <td>Hydro</td>\n",
       "      <td>NaN</td>\n",
       "      <td>NaN</td>\n",
       "      <td>NaN</td>\n",
       "      <td>NaN</td>\n",
       "      <td>NaN</td>\n",
       "      <td>NaN</td>\n",
       "    </tr>\n",
       "    <tr>\n",
       "      <th>1</th>\n",
       "      <td>AFG</td>\n",
       "      <td>GEODB0040541</td>\n",
       "      <td>66.00</td>\n",
       "      <td>Hydro</td>\n",
       "      <td>NaN</td>\n",
       "      <td>NaN</td>\n",
       "      <td>NaN</td>\n",
       "      <td>NaN</td>\n",
       "      <td>NaN</td>\n",
       "      <td>NaN</td>\n",
       "    </tr>\n",
       "    <tr>\n",
       "      <th>2</th>\n",
       "      <td>AFG</td>\n",
       "      <td>GEODB0040534</td>\n",
       "      <td>100.00</td>\n",
       "      <td>Hydro</td>\n",
       "      <td>NaN</td>\n",
       "      <td>NaN</td>\n",
       "      <td>NaN</td>\n",
       "      <td>NaN</td>\n",
       "      <td>NaN</td>\n",
       "      <td>NaN</td>\n",
       "    </tr>\n",
       "    <tr>\n",
       "      <th>3</th>\n",
       "      <td>AFG</td>\n",
       "      <td>GEODB0040536</td>\n",
       "      <td>11.55</td>\n",
       "      <td>Hydro</td>\n",
       "      <td>NaN</td>\n",
       "      <td>NaN</td>\n",
       "      <td>NaN</td>\n",
       "      <td>NaN</td>\n",
       "      <td>NaN</td>\n",
       "      <td>NaN</td>\n",
       "    </tr>\n",
       "    <tr>\n",
       "      <th>4</th>\n",
       "      <td>AFG</td>\n",
       "      <td>GEODB0040540</td>\n",
       "      <td>42.00</td>\n",
       "      <td>Gas</td>\n",
       "      <td>NaN</td>\n",
       "      <td>NaN</td>\n",
       "      <td>NaN</td>\n",
       "      <td>NaN</td>\n",
       "      <td>NaN</td>\n",
       "      <td>NaN</td>\n",
       "    </tr>\n",
       "  </tbody>\n",
       "</table>\n",
       "</div>"
      ],
      "text/plain": [
       "  country     gppd_idnr  capacity_mw primary_fuel  generation_gwh_2013  \\\n",
       "0     AFG  GEODB0040538        33.00        Hydro                  NaN   \n",
       "1     AFG  GEODB0040541        66.00        Hydro                  NaN   \n",
       "2     AFG  GEODB0040534       100.00        Hydro                  NaN   \n",
       "3     AFG  GEODB0040536        11.55        Hydro                  NaN   \n",
       "4     AFG  GEODB0040540        42.00          Gas                  NaN   \n",
       "\n",
       "   generation_gwh_2014  generation_gwh_2015  generation_gwh_2016  \\\n",
       "0                  NaN                  NaN                  NaN   \n",
       "1                  NaN                  NaN                  NaN   \n",
       "2                  NaN                  NaN                  NaN   \n",
       "3                  NaN                  NaN                  NaN   \n",
       "4                  NaN                  NaN                  NaN   \n",
       "\n",
       "   generation_gwh_2017  estimated_generation_gwh  \n",
       "0                  NaN                       NaN  \n",
       "1                  NaN                       NaN  \n",
       "2                  NaN                       NaN  \n",
       "3                  NaN                       NaN  \n",
       "4                  NaN                       NaN  "
      ]
     },
     "execution_count": 54,
     "metadata": {},
     "output_type": "execute_result"
    }
   ],
   "source": [
    "simplified_pp.head()"
   ]
  },
  {
   "cell_type": "markdown",
   "id": "upset-freeware",
   "metadata": {},
   "source": [
    "**Number of plants per primary fuel type**\n",
    "\n",
    "The first analysis to be done is to estimate the number of plants for each primary fuel type."
   ]
  },
  {
   "cell_type": "code",
   "execution_count": 55,
   "id": "supreme-implement",
   "metadata": {},
   "outputs": [
    {
     "data": {
      "image/png": "[encoded data removed]",
      "text/plain": [
       "<Figure size 1440x864 with 1 Axes>"
      ]
     },
     "metadata": {
      "needs_background": "light"
     },
     "output_type": "display_data"
    }
   ],
   "source": [
    "plt.figure(figsize=(20,12))\n",
    "sns.countplot(x='primary_fuel',data=simplified_pp,palette='RdBu')\n",
    "plt.xlabel(\"Primary Fuel\",fontsize=18)\n",
    "plt.ylabel(\"Number of Plants\",fontsize=18)\n",
    "plt.show()"
   ]
  },
  {
   "cell_type": "markdown",
   "id": "bronze-branch",
   "metadata": {},
   "source": [
    "In the figure above it can be see that the vast majority of plants worldwide are Hydroelectric.\n",
    "\n",
    "In the next plot its possible to see the distrution of each plant by its type and generation capacity in MW. For example, its possible to see how several plants have values that separete a lot from the rest."
   ]
  },
  {
   "cell_type": "code",
   "execution_count": 114,
   "id": "tough-egyptian",
   "metadata": {},
   "outputs": [
    {
     "data": {
      "text/plain": [
       "<Figure size 432x288 with 0 Axes>"
      ]
     },
     "metadata": {},
     "output_type": "display_data"
    },
    {
     "data": {
      "image/png": "[encoded data removed]",
      "text/plain": [
       "<Figure size 1440x720 with 1 Axes>"
      ]
     },
     "metadata": {
      "needs_background": "light"
     },
     "output_type": "display_data"
    }
   ],
   "source": [
    "plt.figure()\n",
    "g=sns.catplot(x='primary_fuel',y='capacity_mw',data=simplified_pp,ci=None,aspect=2,height=10)\n",
    "(g.set_axis_labels('Primary Fuel', 'Capacity MW'))\n",
    "plt.show()"
   ]
  },
  {
   "cell_type": "markdown",
   "id": "headed-vulnerability",
   "metadata": {},
   "source": [
    "From the plot above its possible to identify several outliers out of the scatter plots. We can evaluate each dataset idependently to eliminate them."
   ]
  },
  {
   "cell_type": "code",
   "execution_count": 57,
   "id": "directed-training",
   "metadata": {},
   "outputs": [],
   "source": [
    "hydro_pp = simplified_pp.loc[simplified_pp['primary_fuel'] == 'Hydro']\n",
    "gas_pp = simplified_pp.loc[simplified_pp['primary_fuel'] == 'Gas']\n",
    "oil_pp = simplified_pp.loc[simplified_pp['primary_fuel'] == 'Oil']\n",
    "wind_pp = simplified_pp.loc[simplified_pp['primary_fuel'] == 'Wind']\n",
    "nuclear_pp = simplified_pp.loc[simplified_pp['primary_fuel'] == 'Nuclear']\n",
    "coal_pp = simplified_pp.loc[simplified_pp['primary_fuel'] == 'Coal']"
   ]
  },
  {
   "cell_type": "code",
   "execution_count": 115,
   "id": "yellow-alloy",
   "metadata": {},
   "outputs": [
    {
     "data": {
      "text/html": [
       "<div>\n",
       "<style scoped>\n",
       "    .dataframe tbody tr th:only-of-type {\n",
       "        vertical-align: middle;\n",
       "    }\n",
       "\n",
       "    .dataframe tbody tr th {\n",
       "        vertical-align: top;\n",
       "    }\n",
       "\n",
       "    .dataframe thead th {\n",
       "        text-align: right;\n",
       "    }\n",
       "</style>\n",
       "<table border=\"1\" class=\"dataframe\">\n",
       "  <thead>\n",
       "    <tr style=\"text-align: right;\">\n",
       "      <th></th>\n",
       "      <th>capacity_mw</th>\n",
       "      <th>generation_gwh_2013</th>\n",
       "      <th>generation_gwh_2014</th>\n",
       "      <th>generation_gwh_2015</th>\n",
       "      <th>generation_gwh_2016</th>\n",
       "      <th>generation_gwh_2017</th>\n",
       "      <th>estimated_generation_gwh</th>\n",
       "    </tr>\n",
       "  </thead>\n",
       "  <tbody>\n",
       "    <tr>\n",
       "      <th>count</th>\n",
       "      <td>7155.000000</td>\n",
       "      <td>1622.000000</td>\n",
       "      <td>1625.000000</td>\n",
       "      <td>1709.000000</td>\n",
       "      <td>1853.000000</td>\n",
       "      <td>1659.000000</td>\n",
       "      <td>5438.000000</td>\n",
       "    </tr>\n",
       "    <tr>\n",
       "      <th>mean</th>\n",
       "      <td>146.804321</td>\n",
       "      <td>314.672623</td>\n",
       "      <td>256.312439</td>\n",
       "      <td>260.327471</td>\n",
       "      <td>254.284531</td>\n",
       "      <td>258.076518</td>\n",
       "      <td>649.839148</td>\n",
       "    </tr>\n",
       "    <tr>\n",
       "      <th>std</th>\n",
       "      <td>549.433962</td>\n",
       "      <td>1676.561830</td>\n",
       "      <td>980.130498</td>\n",
       "      <td>1052.683897</td>\n",
       "      <td>930.194372</td>\n",
       "      <td>980.094766</td>\n",
       "      <td>2548.580862</td>\n",
       "    </tr>\n",
       "    <tr>\n",
       "      <th>min</th>\n",
       "      <td>1.000000</td>\n",
       "      <td>-947.600000</td>\n",
       "      <td>-989.619000</td>\n",
       "      <td>-864.428000</td>\n",
       "      <td>-768.620000</td>\n",
       "      <td>-934.944000</td>\n",
       "      <td>0.967611</td>\n",
       "    </tr>\n",
       "    <tr>\n",
       "      <th>25%</th>\n",
       "      <td>5.300000</td>\n",
       "      <td>8.299000</td>\n",
       "      <td>7.742000</td>\n",
       "      <td>7.670000</td>\n",
       "      <td>9.494000</td>\n",
       "      <td>9.445500</td>\n",
       "      <td>26.057324</td>\n",
       "    </tr>\n",
       "    <tr>\n",
       "      <th>50%</th>\n",
       "      <td>20.000000</td>\n",
       "      <td>33.196500</td>\n",
       "      <td>29.115000</td>\n",
       "      <td>31.797000</td>\n",
       "      <td>38.554000</td>\n",
       "      <td>36.078700</td>\n",
       "      <td>86.793675</td>\n",
       "    </tr>\n",
       "    <tr>\n",
       "      <th>75%</th>\n",
       "      <td>93.000000</td>\n",
       "      <td>170.286725</td>\n",
       "      <td>147.255000</td>\n",
       "      <td>158.901500</td>\n",
       "      <td>166.015750</td>\n",
       "      <td>158.727375</td>\n",
       "      <td>408.504385</td>\n",
       "    </tr>\n",
       "    <tr>\n",
       "      <th>max</th>\n",
       "      <td>22500.000000</td>\n",
       "      <td>50834.000000</td>\n",
       "      <td>20261.569000</td>\n",
       "      <td>22300.000000</td>\n",
       "      <td>19011.492000</td>\n",
       "      <td>20983.990000</td>\n",
       "      <td>92452.570325</td>\n",
       "    </tr>\n",
       "  </tbody>\n",
       "</table>\n",
       "</div>"
      ],
      "text/plain": [
       "        capacity_mw  generation_gwh_2013  generation_gwh_2014  \\\n",
       "count   7155.000000          1622.000000          1625.000000   \n",
       "mean     146.804321           314.672623           256.312439   \n",
       "std      549.433962          1676.561830           980.130498   \n",
       "min        1.000000          -947.600000          -989.619000   \n",
       "25%        5.300000             8.299000             7.742000   \n",
       "50%       20.000000            33.196500            29.115000   \n",
       "75%       93.000000           170.286725           147.255000   \n",
       "max    22500.000000         50834.000000         20261.569000   \n",
       "\n",
       "       generation_gwh_2015  generation_gwh_2016  generation_gwh_2017  \\\n",
       "count          1709.000000          1853.000000          1659.000000   \n",
       "mean            260.327471           254.284531           258.076518   \n",
       "std            1052.683897           930.194372           980.094766   \n",
       "min            -864.428000          -768.620000          -934.944000   \n",
       "25%               7.670000             9.494000             9.445500   \n",
       "50%              31.797000            38.554000            36.078700   \n",
       "75%             158.901500           166.015750           158.727375   \n",
       "max           22300.000000         19011.492000         20983.990000   \n",
       "\n",
       "       estimated_generation_gwh  \n",
       "count               5438.000000  \n",
       "mean                 649.839148  \n",
       "std                 2548.580862  \n",
       "min                    0.967611  \n",
       "25%                   26.057324  \n",
       "50%                   86.793675  \n",
       "75%                  408.504385  \n",
       "max                92452.570325  "
      ]
     },
     "execution_count": 115,
     "metadata": {},
     "output_type": "execute_result"
    }
   ],
   "source": [
    "hydro_pp.describe()"
   ]
  },
  {
   "cell_type": "code",
   "execution_count": 111,
   "id": "round-produce",
   "metadata": {},
   "outputs": [
    {
     "data": {
      "text/plain": [
       "<Figure size 432x288 with 0 Axes>"
      ]
     },
     "metadata": {},
     "output_type": "display_data"
    },
    {
     "data": {
      "image/png": "[encoded data removed]",
      "text/plain": [
       "<Figure size 1080x720 with 1 Axes>"
      ]
     },
     "metadata": {
      "needs_background": "light"
     },
     "output_type": "display_data"
    }
   ],
   "source": [
    "plt.figure()\n",
    "hydro_pp_catplot=sns.catplot(x='primary_fuel',y='capacity_mw',data=hydro_pp,ci=None,aspect=1.5,height=10)\n",
    "(g.set_axis_labels('Primary Fuel', 'Capacity MW'))\n",
    "plt.show()"
   ]
  },
  {
   "cell_type": "markdown",
   "id": "floral-sheep",
   "metadata": {},
   "source": [
    "By doing the Normal Distribution plot of the data its possible to see how there is an issue on how the data is distributed."
   ]
  },
  {
   "cell_type": "code",
   "execution_count": 95,
   "id": "important-generation",
   "metadata": {},
   "outputs": [
    {
     "data": {
      "text/plain": [
       "<Figure size 432x288 with 0 Axes>"
      ]
     },
     "metadata": {},
     "output_type": "display_data"
    },
    {
     "data": {
      "image/png": "[encoded data removed]",
      "text/plain": [
       "<Figure size 360x360 with 1 Axes>"
      ]
     },
     "metadata": {
      "needs_background": "light"
     },
     "output_type": "display_data"
    }
   ],
   "source": [
    "plt.figure()\n",
    "g=sns.catplot(y='capacity_mw',data=hydro_pp,ci=None,aspect=1,height=5)\n",
    "(g.set_axis_labels('Primary Fuel', 'Capacity MW'))\n",
    "plt.show()"
   ]
  },
  {
   "cell_type": "code",
   "execution_count": 81,
   "id": "reserved-fairy",
   "metadata": {},
   "outputs": [
    {
     "data": {
      "text/plain": [
       "<AxesSubplot:xlabel='capacity_mw', ylabel='capacity_mw'>"
      ]
     },
     "execution_count": 81,
     "metadata": {},
     "output_type": "execute_result"
    },
    {
     "data": {
      "image/png": "[encoded data removed]",
      "text/plain": [
       "<Figure size 432x288 with 1 Axes>"
      ]
     },
     "metadata": {
      "needs_background": "light"
     },
     "output_type": "display_data"
    }
   ],
   "source": []
  },
  {
   "cell_type": "code",
   "execution_count": null,
   "id": "small-planning",
   "metadata": {},
   "outputs": [],
   "source": []
  }
 ],
 "metadata": {
  "kernelspec": {
   "display_name": "Python 3",
   "language": "python",
   "name": "python3"
  },
  "language_info": {
   "codemirror_mode": {
    "name": "ipython",
    "version": 3
   },
   "file_extension": ".py",
   "mimetype": "text/x-python",
   "name": "python",
   "nbconvert_exporter": "python",
   "pygments_lexer": "ipython3",
   "version": "3.9.1"
  }
 },
 "nbformat": 4,
 "nbformat_minor": 5
}
